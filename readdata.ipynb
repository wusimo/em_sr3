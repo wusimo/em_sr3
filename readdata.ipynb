{
 "cells": [
  {
   "cell_type": "code",
   "execution_count": 1,
   "metadata": {},
   "outputs": [
    {
     "name": "stdout",
     "output_type": "stream",
     "text": [
      "Collecting mrcfile\n",
      "  Downloading mrcfile-1.5.4-py2.py3-none-any.whl.metadata (7.0 kB)\n",
      "Requirement already satisfied: numpy in c:\\users\\cmcmc\\desktop\\image-super-resolution-via-iterative-refinement\\.venv\\lib\\site-packages (2.2.1)\n",
      "Collecting matplotlib\n",
      "  Downloading matplotlib-3.10.0-cp311-cp311-win_amd64.whl.metadata (11 kB)\n",
      "Collecting contourpy>=1.0.1 (from matplotlib)\n",
      "  Downloading contourpy-1.3.1-cp311-cp311-win_amd64.whl.metadata (5.4 kB)\n",
      "Collecting cycler>=0.10 (from matplotlib)\n",
      "  Downloading cycler-0.12.1-py3-none-any.whl.metadata (3.8 kB)\n",
      "Collecting fonttools>=4.22.0 (from matplotlib)\n",
      "  Downloading fonttools-4.56.0-cp311-cp311-win_amd64.whl.metadata (103 kB)\n",
      "Collecting kiwisolver>=1.3.1 (from matplotlib)\n",
      "  Downloading kiwisolver-1.4.8-cp311-cp311-win_amd64.whl.metadata (6.3 kB)\n",
      "Requirement already satisfied: packaging>=20.0 in c:\\users\\cmcmc\\desktop\\image-super-resolution-via-iterative-refinement\\.venv\\lib\\site-packages (from matplotlib) (24.2)\n",
      "Requirement already satisfied: pillow>=8 in c:\\users\\cmcmc\\desktop\\image-super-resolution-via-iterative-refinement\\.venv\\lib\\site-packages (from matplotlib) (11.0.0)\n",
      "Collecting pyparsing>=2.3.1 (from matplotlib)\n",
      "  Downloading pyparsing-3.2.1-py3-none-any.whl.metadata (5.0 kB)\n",
      "Requirement already satisfied: python-dateutil>=2.7 in c:\\users\\cmcmc\\desktop\\image-super-resolution-via-iterative-refinement\\.venv\\lib\\site-packages (from matplotlib) (2.9.0.post0)\n",
      "Requirement already satisfied: six>=1.5 in c:\\users\\cmcmc\\desktop\\image-super-resolution-via-iterative-refinement\\.venv\\lib\\site-packages (from python-dateutil>=2.7->matplotlib) (1.17.0)\n",
      "Downloading mrcfile-1.5.4-py2.py3-none-any.whl (45 kB)\n",
      "Downloading matplotlib-3.10.0-cp311-cp311-win_amd64.whl (8.0 MB)\n",
      "   ---------------------------------------- 0.0/8.0 MB ? eta -:--:--\n",
      "   ------------------------------- -------- 6.3/8.0 MB 35.1 MB/s eta 0:00:01\n",
      "   ---------------------------------------- 8.0/8.0 MB 31.1 MB/s eta 0:00:00\n",
      "Downloading contourpy-1.3.1-cp311-cp311-win_amd64.whl (219 kB)\n",
      "Downloading cycler-0.12.1-py3-none-any.whl (8.3 kB)\n",
      "Downloading fonttools-4.56.0-cp311-cp311-win_amd64.whl (2.2 MB)\n",
      "   ---------------------------------------- 0.0/2.2 MB ? eta -:--:--\n",
      "   ---------------------------------------- 2.2/2.2 MB 30.8 MB/s eta 0:00:00\n",
      "Downloading kiwisolver-1.4.8-cp311-cp311-win_amd64.whl (71 kB)\n",
      "Downloading pyparsing-3.2.1-py3-none-any.whl (107 kB)\n",
      "Installing collected packages: pyparsing, mrcfile, kiwisolver, fonttools, cycler, contourpy, matplotlib\n",
      "Successfully installed contourpy-1.3.1 cycler-0.12.1 fonttools-4.56.0 kiwisolver-1.4.8 matplotlib-3.10.0 mrcfile-1.5.4 pyparsing-3.2.1\n",
      "Note: you may need to restart the kernel to use updated packages.\n"
     ]
    },
    {
     "name": "stderr",
     "output_type": "stream",
     "text": [
      "\n",
      "[notice] A new release of pip is available: 24.3.1 -> 25.0.1\n",
      "[notice] To update, run: python.exe -m pip install --upgrade pip\n"
     ]
    }
   ],
   "source": [
    "pip install mrcfile numpy matplotlib\n"
   ]
  },
  {
   "cell_type": "code",
   "execution_count": 2,
   "metadata": {},
   "outputs": [],
   "source": [
    "import mrcfile\n",
    "import numpy as np\n",
    "import matplotlib.pyplot as plt\n",
    "\n",
    "# Load the MRC file\n",
    "mrc_path = \"emd_0008/cryoem_deposited.mrc\"\n",
    "with mrcfile.open(mrc_path) as mrc:\n",
    "    data = mrc.data  # This is a 3D NumPy array\n"
   ]
  },
  {
   "cell_type": "code",
   "execution_count": 9,
   "metadata": {},
   "outputs": [
    {
     "name": "stdout",
     "output_type": "stream",
     "text": [
      "Collecting scipy\n",
      "  Downloading scipy-1.15.2-cp311-cp311-win_amd64.whl.metadata (60 kB)\n",
      "Requirement already satisfied: numpy<2.5,>=1.23.5 in c:\\users\\cmcmc\\desktop\\image-super-resolution-via-iterative-refinement\\.venv\\lib\\site-packages (from scipy) (2.2.1)\n",
      "Downloading scipy-1.15.2-cp311-cp311-win_amd64.whl (41.2 MB)\n",
      "   ---------------------------------------- 0.0/41.2 MB ? eta -:--:--\n",
      "   -- ------------------------------------- 2.6/41.2 MB 18.9 MB/s eta 0:00:03\n",
      "   --------- ------------------------------ 9.7/41.2 MB 28.8 MB/s eta 0:00:02\n",
      "   ------------------- -------------------- 19.7/41.2 MB 36.5 MB/s eta 0:00:01\n",
      "   -------------------------- ------------- 27.3/41.2 MB 36.8 MB/s eta 0:00:01\n",
      "   ----------------------------------- ---- 36.4/41.2 MB 38.6 MB/s eta 0:00:01\n",
      "   ---------------------------------------- 41.2/41.2 MB 36.9 MB/s eta 0:00:00\n",
      "Installing collected packages: scipy\n",
      "Successfully installed scipy-1.15.2\n",
      "Note: you may need to restart the kernel to use updated packages.\n"
     ]
    },
    {
     "name": "stderr",
     "output_type": "stream",
     "text": [
      "\n",
      "[notice] A new release of pip is available: 24.3.1 -> 25.0.1\n",
      "[notice] To update, run: python.exe -m pip install --upgrade pip\n"
     ]
    }
   ],
   "source": [
    "pip install scipy"
   ]
  },
  {
   "cell_type": "code",
   "execution_count": null,
   "metadata": {},
   "outputs": [
    {
     "name": "stdout",
     "output_type": "stream",
     "text": [
      "Padded shape: (480, 480, 480)\n",
      "Saved 1728 HR chunks in 'hr_40'\n",
      "Saved 1728 LR chunks in 'lr_10'\n"
     ]
    }
   ],
   "source": [
    "import os\n",
    "import mrcfile\n",
    "import numpy as np\n",
    "import scipy\n",
    "# import scipy.ndimage\n",
    "\n",
    "# Define chunk size for HR and LR\n",
    "chunk_size_hr = 32\n",
    "chunk_size_lr = 8\n",
    "scale_factor = chunk_size_lr / chunk_size_hr  # 10/40 = 1/4\n",
    "\n",
    "# Load original MRC file\n",
    "mrc_path = \"emd_0008/cryoem_deposited.mrc\"\n",
    "with mrcfile.open(mrc_path) as mrc:\n",
    "    data = mrc.data  # This is a 3D NumPy array\n",
    "    \n",
    "# Compute required padding\n",
    "pad_x = (chunk_size_hr - data.shape[0] % chunk_size_hr) % chunk_size_hr\n",
    "pad_y = (chunk_size_hr - data.shape[1] % chunk_size_hr) % chunk_size_hr\n",
    "pad_z = (chunk_size_hr - data.shape[2] % chunk_size_hr) % chunk_size_hr\n",
    "\n",
    "# Pad with zeros\n",
    "data_padded = np.pad(data, ((0, pad_x), (0, pad_y), (0, pad_z)), mode='constant')\n",
    "\n",
    "# Get new shape\n",
    "new_shape = data_padded.shape\n",
    "print(f\"Padded shape: {new_shape}\")\n",
    "\n",
    "# Create output folders\n",
    "output_hr_dir = \"hr_40\"\n",
    "output_lr_dir = \"lr_10\"\n",
    "os.makedirs(output_hr_dir, exist_ok=True)\n",
    "os.makedirs(output_lr_dir, exist_ok=True)\n",
    "\n",
    "# Split into 40x40x40 cubes and generate LR\n",
    "count = 0\n",
    "for i in range(0, new_shape[0], chunk_size_hr):\n",
    "    for j in range(0, new_shape[1], chunk_size_hr):\n",
    "        for k in range(0, new_shape[2], chunk_size_hr):\n",
    "            sub_volume = data_padded[i:i+chunk_size_hr, j:j+chunk_size_hr, k:k+chunk_size_hr]\n",
    "\n",
    "            # Save HR chunk\n",
    "            hr_filename = os.path.join(output_hr_dir, f\"chunk_{count:03d}.mrc\")\n",
    "            with mrcfile.new(hr_filename, overwrite=True) as mrc_new:\n",
    "                mrc_new.set_data(sub_volume.astype(np.float32))\n",
    "\n",
    "            # Generate LR (1/4 scale)\n",
    "            sub_volume_lr = scipy.ndimage.zoom(sub_volume, scale_factor, order=3)  # Bicubic-like downsampling\n",
    "\n",
    "            # Save LR chunk\n",
    "            lr_filename = os.path.join(output_lr_dir, f\"chunk_{count:03d}.mrc\")\n",
    "            with mrcfile.new(lr_filename, overwrite=True) as mrc_new:\n",
    "                mrc_new.set_data(sub_volume_lr.astype(np.float32))\n",
    "\n",
    "            count += 1\n",
    "\n",
    "print(f\"Saved {count} HR chunks in '{output_hr_dir}'\")\n",
    "print(f\"Saved {count} LR chunks in '{output_lr_dir}'\")\n"
   ]
  },
  {
   "cell_type": "code",
   "execution_count": null,
   "metadata": {},
   "outputs": [],
   "source": []
  }
 ],
 "metadata": {
  "kernelspec": {
   "display_name": ".venv",
   "language": "python",
   "name": "python3"
  },
  "language_info": {
   "codemirror_mode": {
    "name": "ipython",
    "version": 3
   },
   "file_extension": ".py",
   "mimetype": "text/x-python",
   "name": "python",
   "nbconvert_exporter": "python",
   "pygments_lexer": "ipython3",
   "version": "3.11.9"
  }
 },
 "nbformat": 4,
 "nbformat_minor": 2
}
